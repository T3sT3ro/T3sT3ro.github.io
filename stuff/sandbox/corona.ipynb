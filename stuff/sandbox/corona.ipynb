{
 "cells": [
  {
   "cell_type": "code",
   "execution_count": 1,
   "metadata": {},
   "outputs": [],
   "source": [
    "import requests\n",
    "import json\n",
    "import pandas as pd\n",
    "import numpy as np\n",
    "from matplotlib import pyplot as plt\n",
    "\n",
    "API_URL = \"https://api.covid19api.com/country/poland?from=2020-03-01T00:00:00Z&to=2021-12-01T00:00:00Z\""
   ]
  },
  {
   "cell_type": "code",
   "execution_count": 2,
   "metadata": {},
   "outputs": [
    {
     "name": "stdout",
     "output_type": "stream",
     "text": [
      "{'ID': '49358c6d-8c73-4867-bfb4-d01b62371877', 'Country': 'Poland', 'CountryCode': 'PL', 'Province': '', 'City': '', 'CityCode': '', 'Lat': '51.92', 'Lon': '19.15', 'Confirmed': 0, 'Deaths': 0, 'Recovered': 0, 'Active': 0, 'Date': '2020-03-01T00:00:00Z'} {'ID': '0a167ceb-05af-415b-8f3f-05d69565184e', 'Country': 'Poland', 'CountryCode': 'PL', 'Province': '', 'City': '', 'CityCode': '', 'Lat': '51.92', 'Lon': '19.15', 'Confirmed': 3569137, 'Deaths': 84153, 'Recovered': 0, 'Active': 3484984, 'Date': '2021-12-01T00:00:00Z'}\n"
     ]
    }
   ],
   "source": [
    "response = requests.get(API_URL)\n",
    "raw = json.loads(response.content.decode(\"utf8\"))\n",
    "print(raw[0], raw[-1])"
   ]
  },
  {
   "cell_type": "code",
   "execution_count": 3,
   "metadata": {},
   "outputs": [
    {
     "data": {
      "text/html": [
       "<div>\n",
       "<style scoped>\n",
       "    .dataframe tbody tr th:only-of-type {\n",
       "        vertical-align: middle;\n",
       "    }\n",
       "\n",
       "    .dataframe tbody tr th {\n",
       "        vertical-align: top;\n",
       "    }\n",
       "\n",
       "    .dataframe thead th {\n",
       "        text-align: right;\n",
       "    }\n",
       "</style>\n",
       "<table border=\"1\" class=\"dataframe\">\n",
       "  <thead>\n",
       "    <tr style=\"text-align: right;\">\n",
       "      <th></th>\n",
       "      <th>CountryCode</th>\n",
       "      <th>Confirmed</th>\n",
       "      <th>Deaths</th>\n",
       "      <th>Active</th>\n",
       "      <th>Recovered</th>\n",
       "      <th>NewCases</th>\n",
       "      <th>Date</th>\n",
       "    </tr>\n",
       "  </thead>\n",
       "  <tbody>\n",
       "    <tr>\n",
       "      <th>636</th>\n",
       "      <td>PL</td>\n",
       "      <td>3487254</td>\n",
       "      <td>82986</td>\n",
       "      <td>3404268</td>\n",
       "      <td>0</td>\n",
       "      <td>25809.0</td>\n",
       "      <td>2021-11-27 00:00:00+00:00</td>\n",
       "    </tr>\n",
       "    <tr>\n",
       "      <th>637</th>\n",
       "      <td>PL</td>\n",
       "      <td>3507828</td>\n",
       "      <td>83037</td>\n",
       "      <td>3424791</td>\n",
       "      <td>0</td>\n",
       "      <td>20523.0</td>\n",
       "      <td>2021-11-28 00:00:00+00:00</td>\n",
       "    </tr>\n",
       "    <tr>\n",
       "      <th>638</th>\n",
       "      <td>PL</td>\n",
       "      <td>3520961</td>\n",
       "      <td>83055</td>\n",
       "      <td>3437906</td>\n",
       "      <td>0</td>\n",
       "      <td>13115.0</td>\n",
       "      <td>2021-11-29 00:00:00+00:00</td>\n",
       "    </tr>\n",
       "    <tr>\n",
       "      <th>639</th>\n",
       "      <td>PL</td>\n",
       "      <td>3540061</td>\n",
       "      <td>83583</td>\n",
       "      <td>3456478</td>\n",
       "      <td>0</td>\n",
       "      <td>18572.0</td>\n",
       "      <td>2021-11-30 00:00:00+00:00</td>\n",
       "    </tr>\n",
       "    <tr>\n",
       "      <th>640</th>\n",
       "      <td>PL</td>\n",
       "      <td>3569137</td>\n",
       "      <td>84153</td>\n",
       "      <td>3484984</td>\n",
       "      <td>0</td>\n",
       "      <td>28506.0</td>\n",
       "      <td>2021-12-01 00:00:00+00:00</td>\n",
       "    </tr>\n",
       "  </tbody>\n",
       "</table>\n",
       "</div>"
      ],
      "text/plain": [
       "    CountryCode  Confirmed  Deaths   Active  Recovered  NewCases  \\\n",
       "636          PL    3487254   82986  3404268          0   25809.0   \n",
       "637          PL    3507828   83037  3424791          0   20523.0   \n",
       "638          PL    3520961   83055  3437906          0   13115.0   \n",
       "639          PL    3540061   83583  3456478          0   18572.0   \n",
       "640          PL    3569137   84153  3484984          0   28506.0   \n",
       "\n",
       "                         Date  \n",
       "636 2021-11-27 00:00:00+00:00  \n",
       "637 2021-11-28 00:00:00+00:00  \n",
       "638 2021-11-29 00:00:00+00:00  \n",
       "639 2021-11-30 00:00:00+00:00  \n",
       "640 2021-12-01 00:00:00+00:00  "
      ]
     },
     "metadata": {},
     "output_type": "display_data"
    },
    {
     "name": "stdout",
     "output_type": "stream",
     "text": [
      "          Confirmed        Deaths     Recovered        Active      NewCases\n",
      "count  6.410000e+02    641.000000  6.410000e+02  6.410000e+02  6.400000e+02\n",
      "mean   1.452338e+06  36041.193448  7.603938e+05  6.558944e+05  5.445288e+03\n",
      "std    1.272583e+06  32512.910955  1.005324e+06  1.093734e+06  1.050425e+05\n",
      "min    0.000000e+00      0.000000  0.000000e+00  0.000000e+00 -2.101800e+04\n",
      "25%    5.116700e+04   1800.000000  3.750000e+02  1.329000e+04 -1.647500e+02\n",
      "50%    1.422320e+06  32844.000000  6.331200e+04  1.760790e+05  1.535000e+02\n",
      "75%    2.879336e+06  74917.000000  1.397342e+06  3.545560e+05  1.121750e+03\n",
      "max    3.569137e+06  84153.000000  2.653981e+06  3.484984e+06  2.654151e+06\n"
     ]
    },
    {
     "data": {
      "image/png": "[encoded data removed]",
      "text/plain": [
       "<Figure size 432x288 with 2 Axes>"
      ]
     },
     "metadata": {
      "needs_background": "light"
     },
     "output_type": "display_data"
    }
   ],
   "source": [
    "df = pd.DataFrame.from_records(raw)\n",
    "df['NewCases'] = df['Active'].diff(1)\n",
    "df['Date'] = pd.to_datetime(df['Date'])\n",
    "\n",
    "display(df[['CountryCode', 'Confirmed', 'Deaths', 'Active', 'Recovered', 'NewCases', 'Date']][-5:])\n",
    "\n",
    "plt.figure(1)\n",
    "plt.subplot(211)\n",
    "plt.grid(True)\n",
    "plt.plot(df['Date'], df['NewCases'])\n",
    "plt.subplot(212)\n",
    "plt.plot(df['Date'], df['Active'])\n",
    "print(df.describe())\n",
    "plt.show()"
   ]
  },
  {
   "cell_type": "code",
   "execution_count": 4,
   "metadata": {},
   "outputs": [
    {
     "name": "stderr",
     "output_type": "stream",
     "text": [
      "/home/tooster/.local/lib/python3.8/site-packages/numpy/core/_asarray.py:83: UserWarning: Warning: converting a masked element to nan.\n",
      "  return array(a, dtype, copy=False, order=order)\n"
     ]
    },
    {
     "data": {
      "image/png": "[encoded data removed]",
      "text/plain": [
       "<Figure size 432x288 with 1 Axes>"
      ]
     },
     "metadata": {
      "needs_background": "light"
     },
     "output_type": "display_data"
    }
   ],
   "source": [
    "plt.acorr(df['NewCases'])\n",
    "plt.show()"
   ]
  }
 ],
 "metadata": {
  "interpreter": {
   "hash": "916dbcbb3f70747c44a77c7bcd40155683ae19c65e1c03b4aa3499c5328201f1"
  },
  "kernelspec": {
   "display_name": "Python 3.8.10 64-bit",
   "language": "python",
   "name": "python3"
  },
  "language_info": {
   "codemirror_mode": {
    "name": "ipython",
    "version": 3
   },
   "file_extension": ".py",
   "mimetype": "text/x-python",
   "name": "python",
   "nbconvert_exporter": "python",
   "pygments_lexer": "ipython3",
   "version": "3.8.10"
  },
  "orig_nbformat": 4
 },
 "nbformat": 4,
 "nbformat_minor": 2
}
